{
  "nbformat": 4,
  "nbformat_minor": 0,
  "metadata": {
    "colab": {
      "name": "Amazon_Product_Review_Analysis.ipynb",
      "provenance": [],
      "collapsed_sections": []
    },
    "kernelspec": {
      "name": "python3",
      "display_name": "Python 3"
    }
  },
  "cells": [
    {
      "cell_type": "code",
      "metadata": {
        "id": "Z0PCVOW1svwQ",
        "colab_type": "code",
        "colab": {}
      },
      "source": [
        "# Importing necessary paackages\n",
        "import pandas as pd\n",
        "import numpy as np\n",
        "import matplotlib.pyplot as plt\n",
        "%matplotlib inline\n",
        "import seaborn as sns\n",
        "\n",
        "import re\n",
        "import nltk\n",
        "from nltk.corpus import stopwords \n",
        "from nltk.stem.porter import PorterStemmer\n",
        "from nltk.tokenize import word_tokenize\n",
        "from nltk.stem.wordnet import WordNetLemmatizer\n",
        "import string\n",
        "\n",
        "from sklearn.model_selection import train_test_split,KFold\n",
        "from sklearn.model_selection import cross_val_score, GridSearchCV\n",
        "from sklearn.metrics import confusion_matrix, classification_report, accuracy_score, f1_score\n",
        "from sklearn.naive_bayes import MultinomialNB\n",
        "from sklearn.feature_extraction.text import CountVectorizer, TfidfTransformer\n",
        "from sklearn.pipeline import Pipeline\n",
        "import xgboost as xgb \n",
        "seed = 4353"
      ],
      "execution_count": 0,
      "outputs": []
    },
    {
      "cell_type": "code",
      "metadata": {
        "id": "IXcpZd-1ZnGu",
        "colab_type": "code",
        "outputId": "ade02764-714b-45f1-d940-595021c65fa4",
        "colab": {
          "base_uri": "https://localhost:8080/",
          "height": 136
        }
      },
      "source": [
        "#Text processing requisites\n",
        "nltk.download('punkt')\n",
        "nltk.download('stopwords')\n",
        "nltk.download('wordnet')"
      ],
      "execution_count": 0,
      "outputs": [
        {
          "output_type": "stream",
          "text": [
            "[nltk_data] Downloading package punkt to /root/nltk_data...\n",
            "[nltk_data]   Unzipping tokenizers/punkt.zip.\n",
            "[nltk_data] Downloading package stopwords to /root/nltk_data...\n",
            "[nltk_data]   Unzipping corpora/stopwords.zip.\n",
            "[nltk_data] Downloading package wordnet to /root/nltk_data...\n",
            "[nltk_data]   Unzipping corpora/wordnet.zip.\n"
          ],
          "name": "stdout"
        },
        {
          "output_type": "execute_result",
          "data": {
            "text/plain": [
              "True"
            ]
          },
          "metadata": {
            "tags": []
          },
          "execution_count": 2
        }
      ]
    },
    {
      "cell_type": "code",
      "metadata": {
        "id": "tMKiyD4YvtNT",
        "colab_type": "code",
        "colab": {}
      },
      "source": [
        "#Load train and test data for Product Reviews Analysis\n",
        "train = pd.read_csv('train_data.csv')\n",
        "test = pd.read_csv('test_data.csv')"
      ],
      "execution_count": 0,
      "outputs": []
    },
    {
      "cell_type": "code",
      "metadata": {
        "id": "9iFNPusAvtKa",
        "colab_type": "code",
        "outputId": "0fbcb8eb-e9c4-4d6d-9cc8-dfd9b59f26ad",
        "colab": {
          "base_uri": "https://localhost:8080/",
          "height": 34
        }
      },
      "source": [
        "print('Number of rows and columns in train data set',train.shape) "
      ],
      "execution_count": 0,
      "outputs": [
        {
          "output_type": "stream",
          "text": [
            "Number of rows and columns in train data set (4000, 8)\n"
          ],
          "name": "stdout"
        }
      ]
    },
    {
      "cell_type": "code",
      "metadata": {
        "id": "qv2-C_N4xGWZ",
        "colab_type": "code",
        "colab": {}
      },
      "source": [
        "# Convert column names to uppercase\n",
        "train.columns = train.columns.str.upper()"
      ],
      "execution_count": 0,
      "outputs": []
    },
    {
      "cell_type": "code",
      "metadata": {
        "id": "mj74uaH4xChW",
        "colab_type": "code",
        "outputId": "d73d6aee-f60a-47a7-96ad-6e3571e1df91",
        "colab": {
          "base_uri": "https://localhost:8080/",
          "height": 289
        }
      },
      "source": [
        "train.head()"
      ],
      "execution_count": 0,
      "outputs": [
        {
          "output_type": "execute_result",
          "data": {
            "text/html": [
              "<div>\n",
              "<style scoped>\n",
              "    .dataframe tbody tr th:only-of-type {\n",
              "        vertical-align: middle;\n",
              "    }\n",
              "\n",
              "    .dataframe tbody tr th {\n",
              "        vertical-align: top;\n",
              "    }\n",
              "\n",
              "    .dataframe thead th {\n",
              "        text-align: right;\n",
              "    }\n",
              "</style>\n",
              "<table border=\"1\" class=\"dataframe\">\n",
              "  <thead>\n",
              "    <tr style=\"text-align: right;\">\n",
              "      <th></th>\n",
              "      <th>NAME</th>\n",
              "      <th>BRAND</th>\n",
              "      <th>CATEGORIES</th>\n",
              "      <th>PRIMARYCATEGORIES</th>\n",
              "      <th>REVIEWS.DATE</th>\n",
              "      <th>REVIEWS.TEXT</th>\n",
              "      <th>REVIEWS.TITLE</th>\n",
              "      <th>SENTIMENT</th>\n",
              "    </tr>\n",
              "  </thead>\n",
              "  <tbody>\n",
              "    <tr>\n",
              "      <th>0</th>\n",
              "      <td>All-New Fire HD 8 Tablet, 8\" HD Display, Wi-Fi...</td>\n",
              "      <td>Amazon</td>\n",
              "      <td>Electronics,iPad &amp; Tablets,All Tablets,Fire Ta...</td>\n",
              "      <td>Electronics</td>\n",
              "      <td>2016-12-26T00:00:00.000Z</td>\n",
              "      <td>Purchased on Black FridayPros - Great Price (e...</td>\n",
              "      <td>Powerful tablet</td>\n",
              "      <td>Positive</td>\n",
              "    </tr>\n",
              "    <tr>\n",
              "      <th>1</th>\n",
              "      <td>Amazon - Echo Plus w/ Built-In Hub - Silver</td>\n",
              "      <td>Amazon</td>\n",
              "      <td>Amazon Echo,Smart Home,Networking,Home &amp; Tools...</td>\n",
              "      <td>Electronics,Hardware</td>\n",
              "      <td>2018-01-17T00:00:00.000Z</td>\n",
              "      <td>I purchased two Amazon in Echo Plus and two do...</td>\n",
              "      <td>Amazon Echo Plus AWESOME</td>\n",
              "      <td>Positive</td>\n",
              "    </tr>\n",
              "    <tr>\n",
              "      <th>2</th>\n",
              "      <td>Amazon Echo Show Alexa-enabled Bluetooth Speak...</td>\n",
              "      <td>Amazon</td>\n",
              "      <td>Amazon Echo,Virtual Assistant Speakers,Electro...</td>\n",
              "      <td>Electronics,Hardware</td>\n",
              "      <td>2017-12-20T00:00:00.000Z</td>\n",
              "      <td>Just an average Alexa option. Does show a few ...</td>\n",
              "      <td>Average</td>\n",
              "      <td>Neutral</td>\n",
              "    </tr>\n",
              "    <tr>\n",
              "      <th>3</th>\n",
              "      <td>Fire HD 10 Tablet, 10.1 HD Display, Wi-Fi, 16 ...</td>\n",
              "      <td>Amazon</td>\n",
              "      <td>eBook Readers,Fire Tablets,Electronics Feature...</td>\n",
              "      <td>Office Supplies,Electronics</td>\n",
              "      <td>2017-08-04T00:00:00.000Z</td>\n",
              "      <td>very good product. Exactly what I wanted, and ...</td>\n",
              "      <td>Greattttttt</td>\n",
              "      <td>Positive</td>\n",
              "    </tr>\n",
              "    <tr>\n",
              "      <th>4</th>\n",
              "      <td>Brand New Amazon Kindle Fire 16gb 7\" Ips Displ...</td>\n",
              "      <td>Amazon</td>\n",
              "      <td>Computers/Tablets &amp; Networking,Tablets &amp; eBook...</td>\n",
              "      <td>Electronics</td>\n",
              "      <td>2017-01-23T00:00:00.000Z</td>\n",
              "      <td>This is the 3rd one I've purchased. I've bough...</td>\n",
              "      <td>Very durable!</td>\n",
              "      <td>Positive</td>\n",
              "    </tr>\n",
              "  </tbody>\n",
              "</table>\n",
              "</div>"
            ],
            "text/plain": [
              "                                                NAME  ... SENTIMENT\n",
              "0  All-New Fire HD 8 Tablet, 8\" HD Display, Wi-Fi...  ...  Positive\n",
              "1        Amazon - Echo Plus w/ Built-In Hub - Silver  ...  Positive\n",
              "2  Amazon Echo Show Alexa-enabled Bluetooth Speak...  ...   Neutral\n",
              "3  Fire HD 10 Tablet, 10.1 HD Display, Wi-Fi, 16 ...  ...  Positive\n",
              "4  Brand New Amazon Kindle Fire 16gb 7\" Ips Displ...  ...  Positive\n",
              "\n",
              "[5 rows x 8 columns]"
            ]
          },
          "metadata": {
            "tags": []
          },
          "execution_count": 6
        }
      ]
    },
    {
      "cell_type": "code",
      "metadata": {
        "id": "ddcodrT5vtDp",
        "colab_type": "code",
        "outputId": "2d140d4f-c52c-4f0d-a678-7a9cfba2840e",
        "colab": {
          "base_uri": "https://localhost:8080/",
          "height": 306
        }
      },
      "source": [
        "print('Number of rows and columns in test data set',test.shape)\n",
        "test.columns = test.columns.str.upper()\n",
        "test.head()"
      ],
      "execution_count": 0,
      "outputs": [
        {
          "output_type": "stream",
          "text": [
            "Number of rows and columns in test data set (1000, 8)\n"
          ],
          "name": "stdout"
        },
        {
          "output_type": "execute_result",
          "data": {
            "text/html": [
              "<div>\n",
              "<style scoped>\n",
              "    .dataframe tbody tr th:only-of-type {\n",
              "        vertical-align: middle;\n",
              "    }\n",
              "\n",
              "    .dataframe tbody tr th {\n",
              "        vertical-align: top;\n",
              "    }\n",
              "\n",
              "    .dataframe thead th {\n",
              "        text-align: right;\n",
              "    }\n",
              "</style>\n",
              "<table border=\"1\" class=\"dataframe\">\n",
              "  <thead>\n",
              "    <tr style=\"text-align: right;\">\n",
              "      <th></th>\n",
              "      <th>NAME</th>\n",
              "      <th>BRAND</th>\n",
              "      <th>CATEGORIES</th>\n",
              "      <th>PRIMARYCATEGORIES</th>\n",
              "      <th>REVIEWS.DATE</th>\n",
              "      <th>REVIEWS.TEXT</th>\n",
              "      <th>REVIEWS.TITLE</th>\n",
              "      <th>SENTIMENT</th>\n",
              "    </tr>\n",
              "  </thead>\n",
              "  <tbody>\n",
              "    <tr>\n",
              "      <th>0</th>\n",
              "      <td>Fire Tablet, 7 Display, Wi-Fi, 16 GB - Include...</td>\n",
              "      <td>Amazon</td>\n",
              "      <td>Fire Tablets,Computers/Tablets &amp; Networking,Ta...</td>\n",
              "      <td>Electronics</td>\n",
              "      <td>2016-05-23T00:00:00.000Z</td>\n",
              "      <td>Amazon kindle fire has a lot of free app and c...</td>\n",
              "      <td>very handy device</td>\n",
              "      <td>Positive</td>\n",
              "    </tr>\n",
              "    <tr>\n",
              "      <th>1</th>\n",
              "      <td>Amazon Echo Show Alexa-enabled Bluetooth Speak...</td>\n",
              "      <td>Amazon</td>\n",
              "      <td>Computers,Amazon Echo,Virtual Assistant Speake...</td>\n",
              "      <td>Electronics,Hardware</td>\n",
              "      <td>2018-01-02T00:00:00.000Z</td>\n",
              "      <td>The Echo Show is a great addition to the Amazo...</td>\n",
              "      <td>Another winner from Amazon</td>\n",
              "      <td>Positive</td>\n",
              "    </tr>\n",
              "    <tr>\n",
              "      <th>2</th>\n",
              "      <td>All-New Fire HD 8 Tablet, 8\" HD Display, Wi-Fi...</td>\n",
              "      <td>Amazon</td>\n",
              "      <td>Electronics,iPad &amp; Tablets,All Tablets,Fire Ta...</td>\n",
              "      <td>Electronics</td>\n",
              "      <td>2017-01-02T00:00:00.000Z</td>\n",
              "      <td>Great value from Best Buy. Bought at Christmas...</td>\n",
              "      <td>simple to use and reliable so far</td>\n",
              "      <td>Positive</td>\n",
              "    </tr>\n",
              "    <tr>\n",
              "      <th>3</th>\n",
              "      <td>Brand New Amazon Kindle Fire 16gb 7\" Ips Displ...</td>\n",
              "      <td>Amazon</td>\n",
              "      <td>Computers/Tablets &amp; Networking,Tablets &amp; eBook...</td>\n",
              "      <td>Electronics</td>\n",
              "      <td>2017-03-25T00:00:00.000Z</td>\n",
              "      <td>I use mine for email, Facebook ,games and to g...</td>\n",
              "      <td>Love it!!!</td>\n",
              "      <td>Positive</td>\n",
              "    </tr>\n",
              "    <tr>\n",
              "      <th>4</th>\n",
              "      <td>Amazon Echo Show Alexa-enabled Bluetooth Speak...</td>\n",
              "      <td>Amazon</td>\n",
              "      <td>Computers,Amazon Echo,Virtual Assistant Speake...</td>\n",
              "      <td>Electronics,Hardware</td>\n",
              "      <td>2017-11-15T00:00:00.000Z</td>\n",
              "      <td>This is a fantastic item &amp; the person I bought...</td>\n",
              "      <td>Fantastic!</td>\n",
              "      <td>Positive</td>\n",
              "    </tr>\n",
              "  </tbody>\n",
              "</table>\n",
              "</div>"
            ],
            "text/plain": [
              "                                                NAME  ... SENTIMENT\n",
              "0  Fire Tablet, 7 Display, Wi-Fi, 16 GB - Include...  ...  Positive\n",
              "1  Amazon Echo Show Alexa-enabled Bluetooth Speak...  ...  Positive\n",
              "2  All-New Fire HD 8 Tablet, 8\" HD Display, Wi-Fi...  ...  Positive\n",
              "3  Brand New Amazon Kindle Fire 16gb 7\" Ips Displ...  ...  Positive\n",
              "4  Amazon Echo Show Alexa-enabled Bluetooth Speak...  ...  Positive\n",
              "\n",
              "[5 rows x 8 columns]"
            ]
          },
          "metadata": {
            "tags": []
          },
          "execution_count": 76
        }
      ]
    },
    {
      "cell_type": "code",
      "metadata": {
        "id": "O14ZLewGDcll",
        "colab_type": "code",
        "outputId": "abcc2a37-9ef0-4fc6-e41d-1ce4d2898bae",
        "colab": {
          "base_uri": "https://localhost:8080/",
          "height": 170
        }
      },
      "source": [
        "# Check for any missing values in the training dataset\n",
        "train.isnull().sum()"
      ],
      "execution_count": 0,
      "outputs": [
        {
          "output_type": "execute_result",
          "data": {
            "text/plain": [
              "NAME                  0\n",
              "BRAND                 0\n",
              "CATEGORIES            0\n",
              "PRIMARYCATEGORIES     0\n",
              "REVIEWS.DATE          0\n",
              "REVIEWS.TEXT          0\n",
              "REVIEWS.TITLE        10\n",
              "SENTIMENT             0\n",
              "dtype: int64"
            ]
          },
          "metadata": {
            "tags": []
          },
          "execution_count": 8
        }
      ]
    },
    {
      "cell_type": "code",
      "metadata": {
        "id": "fs3DueeFKQOP",
        "colab_type": "code",
        "outputId": "0cf2f9c6-c758-4145-a28f-a4eddce80dfa",
        "colab": {
          "base_uri": "https://localhost:8080/",
          "height": 529
        }
      },
      "source": [
        "#Records corresponding to entries from training dataset in 'REVIEWS.TITLE' column with missing values\n",
        "train[train['REVIEWS.TITLE'].isnull() == True]"
      ],
      "execution_count": 0,
      "outputs": [
        {
          "output_type": "execute_result",
          "data": {
            "text/html": [
              "<div>\n",
              "<style scoped>\n",
              "    .dataframe tbody tr th:only-of-type {\n",
              "        vertical-align: middle;\n",
              "    }\n",
              "\n",
              "    .dataframe tbody tr th {\n",
              "        vertical-align: top;\n",
              "    }\n",
              "\n",
              "    .dataframe thead th {\n",
              "        text-align: right;\n",
              "    }\n",
              "</style>\n",
              "<table border=\"1\" class=\"dataframe\">\n",
              "  <thead>\n",
              "    <tr style=\"text-align: right;\">\n",
              "      <th></th>\n",
              "      <th>NAME</th>\n",
              "      <th>BRAND</th>\n",
              "      <th>CATEGORIES</th>\n",
              "      <th>PRIMARYCATEGORIES</th>\n",
              "      <th>REVIEWS.DATE</th>\n",
              "      <th>REVIEWS.TEXT</th>\n",
              "      <th>REVIEWS.TITLE</th>\n",
              "      <th>SENTIMENT</th>\n",
              "    </tr>\n",
              "  </thead>\n",
              "  <tbody>\n",
              "    <tr>\n",
              "      <th>834</th>\n",
              "      <td>Amazon Echo Show Alexa-enabled Bluetooth Speak...</td>\n",
              "      <td>Amazon</td>\n",
              "      <td>Computers,Amazon Echo,Virtual Assistant Speake...</td>\n",
              "      <td>Electronics,Hardware</td>\n",
              "      <td>2017-12-29T16:56:05.000Z</td>\n",
              "      <td>Best New Adult Toy in years! Wish I had purcha...</td>\n",
              "      <td>NaN</td>\n",
              "      <td>Positive</td>\n",
              "    </tr>\n",
              "    <tr>\n",
              "      <th>1268</th>\n",
              "      <td>Amazon Echo Show Alexa-enabled Bluetooth Speak...</td>\n",
              "      <td>Amazon</td>\n",
              "      <td>Amazon Echo,Virtual Assistant Speakers,Electro...</td>\n",
              "      <td>Electronics,Hardware</td>\n",
              "      <td>2017-12-29T16:56:05.000Z</td>\n",
              "      <td>Best New Adult Toy in years! Wish I had purcha...</td>\n",
              "      <td>NaN</td>\n",
              "      <td>Positive</td>\n",
              "    </tr>\n",
              "    <tr>\n",
              "      <th>1695</th>\n",
              "      <td>Amazon Echo Show Alexa-enabled Bluetooth Speak...</td>\n",
              "      <td>Amazon</td>\n",
              "      <td>Computers,Amazon Echo,Virtual Assistant Speake...</td>\n",
              "      <td>Electronics,Hardware</td>\n",
              "      <td>2018-09-01T19:51:34.000Z</td>\n",
              "      <td>I bought the echo show for my mom for her birt...</td>\n",
              "      <td>NaN</td>\n",
              "      <td>Positive</td>\n",
              "    </tr>\n",
              "    <tr>\n",
              "      <th>1824</th>\n",
              "      <td>Amazon Echo Show Alexa-enabled Bluetooth Speak...</td>\n",
              "      <td>Amazon</td>\n",
              "      <td>Computers,Amazon Echo,Virtual Assistant Speake...</td>\n",
              "      <td>Electronics,Hardware</td>\n",
              "      <td>2018-06-06T20:46:55.000Z</td>\n",
              "      <td>this is pretty cool, we love ours, we listen t...</td>\n",
              "      <td>NaN</td>\n",
              "      <td>Positive</td>\n",
              "    </tr>\n",
              "    <tr>\n",
              "      <th>2786</th>\n",
              "      <td>Amazon Fire TV with 4K Ultra HD and Alexa Voic...</td>\n",
              "      <td>Amazon</td>\n",
              "      <td>Amazon SMP,TV, Video &amp; Home Audio,Electronics,...</td>\n",
              "      <td>Electronics</td>\n",
              "      <td>2017-11-30T21:40:30.000Z</td>\n",
              "      <td>Really cool device! Instantly noticed the diff...</td>\n",
              "      <td>NaN</td>\n",
              "      <td>Positive</td>\n",
              "    </tr>\n",
              "    <tr>\n",
              "      <th>2822</th>\n",
              "      <td>Amazon Echo Show Alexa-enabled Bluetooth Speak...</td>\n",
              "      <td>Amazon</td>\n",
              "      <td>Computers,Amazon Echo,Virtual Assistant Speake...</td>\n",
              "      <td>Electronics,Hardware</td>\n",
              "      <td>2018-08-16T23:06:42.000Z</td>\n",
              "      <td>I love the Echo show. I have found so many use...</td>\n",
              "      <td>NaN</td>\n",
              "      <td>Positive</td>\n",
              "    </tr>\n",
              "    <tr>\n",
              "      <th>2933</th>\n",
              "      <td>Amazon Echo Show Alexa-enabled Bluetooth Speak...</td>\n",
              "      <td>Amazon</td>\n",
              "      <td>Amazon Echo,Virtual Assistant Speakers,Electro...</td>\n",
              "      <td>Electronics,Hardware</td>\n",
              "      <td>2018-01-06T15:03:52.000Z</td>\n",
              "      <td>Awesome so far. Have used it as alarm clock, s...</td>\n",
              "      <td>NaN</td>\n",
              "      <td>Positive</td>\n",
              "    </tr>\n",
              "    <tr>\n",
              "      <th>3103</th>\n",
              "      <td>Amazon Echo Show Alexa-enabled Bluetooth Speak...</td>\n",
              "      <td>Amazon</td>\n",
              "      <td>Amazon Echo,Virtual Assistant Speakers,Electro...</td>\n",
              "      <td>Electronics,Hardware</td>\n",
              "      <td>2018-04-06T23:51:32.000Z</td>\n",
              "      <td>This was bought for a gift. But it looks nice....</td>\n",
              "      <td>NaN</td>\n",
              "      <td>Positive</td>\n",
              "    </tr>\n",
              "    <tr>\n",
              "      <th>3224</th>\n",
              "      <td>Amazon Echo Show Alexa-enabled Bluetooth Speak...</td>\n",
              "      <td>Amazon</td>\n",
              "      <td>Computers,Amazon Echo,Virtual Assistant Speake...</td>\n",
              "      <td>Electronics,Hardware</td>\n",
              "      <td>2017-12-30T18:26:19.000Z</td>\n",
              "      <td>Delivered on time and it looked good will hook...</td>\n",
              "      <td>NaN</td>\n",
              "      <td>Positive</td>\n",
              "    </tr>\n",
              "    <tr>\n",
              "      <th>3690</th>\n",
              "      <td>Amazon Echo Show Alexa-enabled Bluetooth Speak...</td>\n",
              "      <td>Amazon</td>\n",
              "      <td>Computers,Amazon Echo,Virtual Assistant Speake...</td>\n",
              "      <td>Electronics,Hardware</td>\n",
              "      <td>2018-04-06T23:51:32.000Z</td>\n",
              "      <td>This was bought for a gift. But it looks nice....</td>\n",
              "      <td>NaN</td>\n",
              "      <td>Positive</td>\n",
              "    </tr>\n",
              "  </tbody>\n",
              "</table>\n",
              "</div>"
            ],
            "text/plain": [
              "                                                   NAME  ... SENTIMENT\n",
              "834   Amazon Echo Show Alexa-enabled Bluetooth Speak...  ...  Positive\n",
              "1268  Amazon Echo Show Alexa-enabled Bluetooth Speak...  ...  Positive\n",
              "1695  Amazon Echo Show Alexa-enabled Bluetooth Speak...  ...  Positive\n",
              "1824  Amazon Echo Show Alexa-enabled Bluetooth Speak...  ...  Positive\n",
              "2786  Amazon Fire TV with 4K Ultra HD and Alexa Voic...  ...  Positive\n",
              "2822  Amazon Echo Show Alexa-enabled Bluetooth Speak...  ...  Positive\n",
              "2933  Amazon Echo Show Alexa-enabled Bluetooth Speak...  ...  Positive\n",
              "3103  Amazon Echo Show Alexa-enabled Bluetooth Speak...  ...  Positive\n",
              "3224  Amazon Echo Show Alexa-enabled Bluetooth Speak...  ...  Positive\n",
              "3690  Amazon Echo Show Alexa-enabled Bluetooth Speak...  ...  Positive\n",
              "\n",
              "[10 rows x 8 columns]"
            ]
          },
          "metadata": {
            "tags": []
          },
          "execution_count": 77
        }
      ]
    },
    {
      "cell_type": "code",
      "metadata": {
        "id": "HP6Jh3Q2Ebgf",
        "colab_type": "code",
        "colab": {}
      },
      "source": [
        "# We shall not drop 'REVIEWS.TITLE' with missing data because we can still get useful information from 'REVIEWS.TEXT'\n",
        "# Replace 'REVIEWS.TITLE' missing data with an empty string\n",
        "\n",
        "train['REVIEWS.TITLE'].fillna(\" \" , inplace=True)"
      ],
      "execution_count": 0,
      "outputs": []
    },
    {
      "cell_type": "code",
      "metadata": {
        "id": "TSKekzNtw1d9",
        "colab_type": "code",
        "outputId": "6786b6ec-70c7-48b8-ca8e-b893db92da20",
        "colab": {
          "base_uri": "https://localhost:8080/",
          "height": 85
        }
      },
      "source": [
        "#Check if the sentiment outcomes are balanced / imbalanced\n",
        "Sentiment_Counts = train['SENTIMENT'].value_counts()\n",
        "Sentiment_Counts"
      ],
      "execution_count": 0,
      "outputs": [
        {
          "output_type": "execute_result",
          "data": {
            "text/plain": [
              "Positive    3749\n",
              "Neutral      158\n",
              "Negative      93\n",
              "Name: SENTIMENT, dtype: int64"
            ]
          },
          "metadata": {
            "tags": []
          },
          "execution_count": 11
        }
      ]
    },
    {
      "cell_type": "markdown",
      "metadata": {
        "id": "dCynAHJrj6g1",
        "colab_type": "text"
      },
      "source": [
        "The training dataset is imbalanced"
      ]
    },
    {
      "cell_type": "code",
      "metadata": {
        "id": "hlwm6evgw1a7",
        "colab_type": "code",
        "outputId": "c5425e2b-dcf4-4697-bfda-82fd8824f554",
        "colab": {
          "base_uri": "https://localhost:8080/",
          "height": 321
        }
      },
      "source": [
        "#Visualization using Bar plot (matplotlib)\n",
        "Sentiment_Counts.plot(kind= 'bar')"
      ],
      "execution_count": 0,
      "outputs": [
        {
          "output_type": "execute_result",
          "data": {
            "text/plain": [
              "<matplotlib.axes._subplots.AxesSubplot at 0x7f010696b400>"
            ]
          },
          "metadata": {
            "tags": []
          },
          "execution_count": 12
        },
        {
          "output_type": "display_data",
          "data": {
            "image/png": "[encoded data removed]",
            "text/plain": [
              "<Figure size 432x288 with 1 Axes>"
            ]
          },
          "metadata": {
            "tags": []
          }
        }
      ]
    },
    {
      "cell_type": "code",
      "metadata": {
        "id": "yqDZCyxbzvfX",
        "colab_type": "code",
        "outputId": "00b980bb-2860-41c4-cbaf-feaabca3080f",
        "colab": {
          "base_uri": "https://localhost:8080/",
          "height": 350
        }
      },
      "source": [
        "#Visualization using Bar plot (seaborn)\n",
        "plt.figure(figsize=(14,5))\n",
        "sns.countplot(train['SENTIMENT'],)\n",
        "plt.xlabel('Sentiments')\n",
        "plt.title('Sentiment distribution')\n",
        "plt.show()"
      ],
      "execution_count": 0,
      "outputs": [
        {
          "output_type": "display_data",
          "data": {
            "image/png": "[encoded data removed]",
            "text/plain": [
              "<Figure size 1008x360 with 1 Axes>"
            ]
          },
          "metadata": {
            "tags": []
          }
        }
      ]
    },
    {
      "cell_type": "code",
      "metadata": {
        "id": "5lWcpRpFLaXu",
        "colab_type": "code",
        "outputId": "ed0a8f75-f98d-4876-b5d3-68dc1bab6169",
        "colab": {
          "base_uri": "https://localhost:8080/",
          "height": 170
        }
      },
      "source": [
        "#Check for missing values in test data\n",
        "test.isnull().sum()"
      ],
      "execution_count": 0,
      "outputs": [
        {
          "output_type": "execute_result",
          "data": {
            "text/plain": [
              "NAME                 0\n",
              "BRAND                0\n",
              "CATEGORIES           0\n",
              "PRIMARYCATEGORIES    0\n",
              "REVIEWS.DATE         0\n",
              "REVIEWS.TEXT         0\n",
              "REVIEWS.TITLE        3\n",
              "SENTIMENT            0\n",
              "dtype: int64"
            ]
          },
          "metadata": {
            "tags": []
          },
          "execution_count": 14
        }
      ]
    },
    {
      "cell_type": "code",
      "metadata": {
        "id": "7Km06LCRakle",
        "colab_type": "code",
        "colab": {}
      },
      "source": [
        "# Replace 'REVIEWS.TITLE' missing data with an empty string\n",
        "test['REVIEWS.TITLE'].fillna(\" \" , inplace=True)"
      ],
      "execution_count": 0,
      "outputs": []
    },
    {
      "cell_type": "code",
      "metadata": {
        "id": "yhKSHSV-w1Va",
        "colab_type": "code",
        "colab": {}
      },
      "source": [
        "#Creating Train and Test datasets with only the product reviews (Complete Review = Review Text + Review Title)\n",
        "\n",
        "X_train = train['REVIEWS.TEXT'] + ' ' + train['REVIEWS.TITLE']\n",
        "y_train = train['SENTIMENT']\n"
      ],
      "execution_count": 0,
      "outputs": []
    },
    {
      "cell_type": "code",
      "metadata": {
        "id": "HWuQIYqWaqG-",
        "colab_type": "code",
        "colab": {}
      },
      "source": [
        "X_test = test['REVIEWS.TEXT'] + ' ' + test['REVIEWS.TITLE']\n",
        "y_test = test['SENTIMENT']"
      ],
      "execution_count": 0,
      "outputs": []
    },
    {
      "cell_type": "code",
      "metadata": {
        "id": "Lodd5_mcw1SQ",
        "colab_type": "code",
        "outputId": "281b7c96-5bbd-4a75-e35e-24e714bf6987",
        "colab": {
          "base_uri": "https://localhost:8080/",
          "height": 54
        }
      },
      "source": [
        "X_train[0]"
      ],
      "execution_count": 0,
      "outputs": [
        {
          "output_type": "execute_result",
          "data": {
            "text/plain": [
              "'Purchased on Black FridayPros - Great Price (even off sale)Very powerful and fast with quad core processors Amazing soundWell builtCons -Amazon ads, Amazon need this to subsidize the tablet and will remove the adds if you pay them $15.Inability to access other apps except the ones from Amazon. There is a way which I was able to accomplish to add the Google Play storeNet this is a great tablet for the money Powerful tablet'"
            ]
          },
          "metadata": {
            "tags": []
          },
          "execution_count": 18
        }
      ]
    },
    {
      "cell_type": "code",
      "metadata": {
        "id": "PITKRTNK9BgS",
        "colab_type": "code",
        "outputId": "45f006bc-9e4b-46a9-8ae2-0fd9c872ccc9",
        "colab": {
          "base_uri": "https://localhost:8080/",
          "height": 204
        }
      },
      "source": [
        "X_train_df = pd.DataFrame(data= X_train)\n",
        "X_train_df.columns = ['Review']\n",
        "X_train_df.head()"
      ],
      "execution_count": 0,
      "outputs": [
        {
          "output_type": "execute_result",
          "data": {
            "text/html": [
              "<div>\n",
              "<style scoped>\n",
              "    .dataframe tbody tr th:only-of-type {\n",
              "        vertical-align: middle;\n",
              "    }\n",
              "\n",
              "    .dataframe tbody tr th {\n",
              "        vertical-align: top;\n",
              "    }\n",
              "\n",
              "    .dataframe thead th {\n",
              "        text-align: right;\n",
              "    }\n",
              "</style>\n",
              "<table border=\"1\" class=\"dataframe\">\n",
              "  <thead>\n",
              "    <tr style=\"text-align: right;\">\n",
              "      <th></th>\n",
              "      <th>Review</th>\n",
              "    </tr>\n",
              "  </thead>\n",
              "  <tbody>\n",
              "    <tr>\n",
              "      <th>0</th>\n",
              "      <td>Purchased on Black FridayPros - Great Price (e...</td>\n",
              "    </tr>\n",
              "    <tr>\n",
              "      <th>1</th>\n",
              "      <td>I purchased two Amazon in Echo Plus and two do...</td>\n",
              "    </tr>\n",
              "    <tr>\n",
              "      <th>2</th>\n",
              "      <td>Just an average Alexa option. Does show a few ...</td>\n",
              "    </tr>\n",
              "    <tr>\n",
              "      <th>3</th>\n",
              "      <td>very good product. Exactly what I wanted, and ...</td>\n",
              "    </tr>\n",
              "    <tr>\n",
              "      <th>4</th>\n",
              "      <td>This is the 3rd one I've purchased. I've bough...</td>\n",
              "    </tr>\n",
              "  </tbody>\n",
              "</table>\n",
              "</div>"
            ],
            "text/plain": [
              "                                              Review\n",
              "0  Purchased on Black FridayPros - Great Price (e...\n",
              "1  I purchased two Amazon in Echo Plus and two do...\n",
              "2  Just an average Alexa option. Does show a few ...\n",
              "3  very good product. Exactly what I wanted, and ...\n",
              "4  This is the 3rd one I've purchased. I've bough..."
            ]
          },
          "metadata": {
            "tags": []
          },
          "execution_count": 82
        }
      ]
    },
    {
      "cell_type": "markdown",
      "metadata": {
        "id": "_-Zod-iQzOuK",
        "colab_type": "text"
      },
      "source": [
        "# Text Preprocessing  "
      ]
    },
    {
      "cell_type": "code",
      "metadata": {
        "id": "oAtpDCuTuUif",
        "colab_type": "code",
        "outputId": "e08daa74-896c-4149-ac1d-222dd594a4c7",
        "colab": {
          "base_uri": "https://localhost:8080/",
          "height": 34
        }
      },
      "source": [
        "string.punctuation # contains all the punctions which are to be removed from the reviews"
      ],
      "execution_count": 0,
      "outputs": [
        {
          "output_type": "execute_result",
          "data": {
            "text/plain": [
              "'!\"#$%&\\'()*+,-./:;<=>?@[\\\\]^_`{|}~'"
            ]
          },
          "metadata": {
            "tags": []
          },
          "execution_count": 83
        }
      ]
    },
    {
      "cell_type": "code",
      "metadata": {
        "id": "kDxR6rcVx3rr",
        "colab_type": "code",
        "colab": {}
      },
      "source": [
        "def X_final(X_train_data, X_test_data):\n",
        "\n",
        "  #Function for removing punctuations\n",
        "  def remove_punctuations_from_string(X_data):\n",
        "      string1 = X_data.lower() #changing to lower case\n",
        "      translation_table = dict.fromkeys(map(ord, string.punctuation), ' ') #creating dictionary of punc & None\n",
        "      string2 = string1.translate(translation_table) #translating \n",
        "      return string2\n",
        "\n",
        "  X_train_data_clear_punct = []\n",
        "  for i in range(0, len(X_train_data)):\n",
        "    test_string = remove_punctuations_from_string(X_train_data[i])\n",
        "    X_train_data_clear_punct.append(test_string)\n",
        "\n",
        "  X_test_data_clear_punct = []\n",
        "  for i in range(0, len(X_test_data)):\n",
        "    test_string = remove_punctuations_from_string(X_test_data[i])\n",
        "    X_test_data_clear_punct.append(test_string)\n",
        "\n",
        "\n",
        "  #Function for removing stopwords\n",
        "  def remove_stopwords_from_string(X_data):\n",
        "      pattern = re.compile(r'\\b(' + r'|'.join(stopwords.words('english')) + r')\\b\\s*') #compiling all stopwords.\n",
        "      string2 = pattern.sub('', X_data) #replacing the occurrences of stopwords\n",
        "      return string2\n",
        "\n",
        "  X_train_data_clear_stopwords = []\n",
        "  for i in range(0, len(X_train_data)):\n",
        "    test_string = remove_stopwords_from_string(X_train_data_clear_punct[i])\n",
        "    X_train_data_clear_stopwords.append(test_string)\n",
        "\n",
        "  X_test_data_clear_stopwords = []\n",
        "  for i in range(0, len(X_test_data)):\n",
        "    test_string = remove_stopwords_from_string(X_test_data_clear_punct[i])\n",
        "    X_test_data_clear_stopwords.append(test_string)\n",
        "\n",
        "\n",
        "  # Function for Tokenizing words\n",
        "  def tokenized_words(X_data):\n",
        "    words = nltk.word_tokenize(X_data)\n",
        "    return words\n",
        "\n",
        "  X_train_data_tokenized_words = []\n",
        "  for i in range(0, len(X_train_data)):\n",
        "    test_string = tokenized_words(X_train_data_clear_stopwords[i])\n",
        "    X_train_data_tokenized_words.append(test_string)\n",
        "\n",
        "  X_test_data_tokenized_words = []\n",
        "  for i in range(0, len(X_test_data)):\n",
        "    test_string = tokenized_words(X_test_data_clear_stopwords[i])\n",
        "    X_test_data_tokenized_words.append(test_string)\n",
        "\n",
        "\n",
        "  # Function for Lemmatization\n",
        "  lemmatizer = WordNetLemmatizer()\n",
        "  def lematized_words(X_data):\n",
        "    words = lemmatizer.lemmatize(X_data)\n",
        "    return words\n",
        "\n",
        "  X_train_data_lematized_words = []\n",
        "  for i in range(0, len(X_train_data)):\n",
        "    X_train_data_lematized_word = []\n",
        "    for j in range(0, len(X_train_data_tokenized_words[i])):\n",
        "      test_string = lematized_words(X_train_data_tokenized_words[i][j])\n",
        "      X_train_data_lematized_word.append(test_string)\n",
        "    X_train_data_lematized = ' '.join(X_train_data_lematized_word)\n",
        "    X_train_data_lematized_words.append(X_train_data_lematized)\n",
        "\n",
        "  X_test_data_lematized_words = []\n",
        "  for i in range(0, len(X_test_data)):\n",
        "    X_test_data_lematized_word = []\n",
        "    for j in range(0, len(X_test_data_tokenized_words[i])):\n",
        "      test_string = lematized_words(X_test_data_tokenized_words[i][j])\n",
        "      X_test_data_lematized_word.append(test_string)\n",
        "    X_test_data_lematized = ' '.join(X_test_data_lematized_word)\n",
        "    X_test_data_lematized_words.append(X_test_data_lematized)\n",
        "\n",
        "\n",
        "  # Creating the Bag of Words Model\n",
        "  cv = CountVectorizer(max_features = 1000)\n",
        "\n",
        "  X_train_data_vector = cv.fit_transform(X_train_data_lematized_words).toarray()\n",
        "  X_test_data_vector = cv.fit_transform(X_test_data_lematized_words).toarray()\n",
        "\n",
        "\n",
        "  # Integer counts to weighted TF-IDF scores\n",
        "  tf = TfidfTransformer()\n",
        "\n",
        "  X_train_data_tfidf = tf.fit_transform(X_train_data_vector).toarray()\n",
        "  X_test_data_tfidf = tf.fit_transform(X_test_data_vector).toarray()\n",
        "\n",
        "  return X_train_data_tfidf, X_test_data_tfidf"
      ],
      "execution_count": 0,
      "outputs": []
    },
    {
      "cell_type": "markdown",
      "metadata": {
        "id": "Xw6j-kevZ5Pq",
        "colab_type": "text"
      },
      "source": [
        "# Model Selection"
      ]
    },
    {
      "cell_type": "code",
      "metadata": {
        "id": "GmNORWk2ssK-",
        "colab_type": "code",
        "colab": {}
      },
      "source": [
        "# Taining and testing data to be used in our model\n",
        "train_X, test_X = X_final(X_train, X_test)"
      ],
      "execution_count": 0,
      "outputs": []
    },
    {
      "cell_type": "markdown",
      "metadata": {
        "id": "esXJ44nmcRxq",
        "colab_type": "text"
      },
      "source": [
        "### Multinomial Naive Bayes"
      ]
    },
    {
      "cell_type": "code",
      "metadata": {
        "id": "Q3djt9jyX1fk",
        "colab_type": "code",
        "outputId": "6b015b55-cf7e-4e1b-8a3c-5589538feff0",
        "colab": {
          "base_uri": "https://localhost:8080/",
          "height": 34
        }
      },
      "source": [
        "MNB = MultinomialNB()\n",
        "\n",
        "MNB.fit(train_X,y_train)"
      ],
      "execution_count": 0,
      "outputs": [
        {
          "output_type": "execute_result",
          "data": {
            "text/plain": [
              "MultinomialNB(alpha=1.0, class_prior=None, fit_prior=True)"
            ]
          },
          "metadata": {
            "tags": []
          },
          "execution_count": 86
        }
      ]
    },
    {
      "cell_type": "code",
      "metadata": {
        "id": "c6BHSGIDZbVx",
        "colab_type": "code",
        "colab": {}
      },
      "source": [
        "predictions = MNB.predict(test_X)"
      ],
      "execution_count": 0,
      "outputs": []
    },
    {
      "cell_type": "code",
      "metadata": {
        "id": "8pLd1duuw1Aw",
        "colab_type": "code",
        "outputId": "21db8d9a-33a9-4fd5-d49a-360616ab78cf",
        "colab": {
          "base_uri": "https://localhost:8080/",
          "height": 272
        }
      },
      "source": [
        "# Model evaluation\n",
        "print(classification_report(y_test, predictions))\n",
        "print(confusion_matrix(y_test, predictions))\n",
        "\n",
        "MNB_f1 = round(f1_score(y_test, predictions, average= 'weighted'), 3)\n",
        "MNB_accuracy = round((accuracy_score(y_test, predictions) * 100), 2)\n",
        "\n",
        "print(\"Accuracy : \" , MNB_accuracy , \" %\")\n",
        "print(\"f1_score : \" , MNB_f1)"
      ],
      "execution_count": 0,
      "outputs": [
        {
          "output_type": "stream",
          "text": [
            "              precision    recall  f1-score   support\n",
            "\n",
            "    Negative       0.25      0.04      0.07        24\n",
            "     Neutral       0.08      0.03      0.04        39\n",
            "    Positive       0.94      0.99      0.96       937\n",
            "\n",
            "    accuracy                           0.93      1000\n",
            "   macro avg       0.42      0.35      0.36      1000\n",
            "weighted avg       0.89      0.93      0.90      1000\n",
            "\n",
            "[[  1   1  22]\n",
            " [  0   1  38]\n",
            " [  3  10 924]]\n",
            "Accuracy :  92.6  %\n",
            "f1_score :  0.905\n"
          ],
          "name": "stdout"
        }
      ]
    },
    {
      "cell_type": "markdown",
      "metadata": {
        "colab_type": "text",
        "id": "O_vjZu-4mCWs"
      },
      "source": [
        "### Random Forest Classifier"
      ]
    },
    {
      "cell_type": "code",
      "metadata": {
        "id": "xBFWwJems--N",
        "colab_type": "code",
        "colab": {}
      },
      "source": [
        "from sklearn.ensemble import RandomForestClassifier\n",
        "\n",
        "rfc=RandomForestClassifier(random_state= seed)"
      ],
      "execution_count": 0,
      "outputs": []
    },
    {
      "cell_type": "code",
      "metadata": {
        "id": "JOo3rpwqs-43",
        "colab_type": "code",
        "outputId": "9c906943-05fa-41f2-86f2-1eea7b92d6a3",
        "colab": {
          "base_uri": "https://localhost:8080/",
          "height": 272
        }
      },
      "source": [
        "rfc=RandomForestClassifier(n_estimators= 10, random_state= seed)\n",
        "\n",
        "rfc.fit(train_X,y_train)\n",
        "\n",
        "predictions = rfc.predict(test_X)\n",
        "\n",
        "# Model evaluation\n",
        "print(classification_report(y_test, predictions))\n",
        "print(confusion_matrix(y_test, predictions))\n",
        "\n",
        "rfc_f1 = round(f1_score(y_test, predictions, average= 'weighted'), 3)\n",
        "rfc_accuracy = round((accuracy_score(y_test, predictions) * 100), 2)\n",
        "\n",
        "print(\"Accuracy : \" , rfc_accuracy , \" %\")\n",
        "print(\"f1_score : \" , rfc_f1)"
      ],
      "execution_count": 0,
      "outputs": [
        {
          "output_type": "stream",
          "text": [
            "              precision    recall  f1-score   support\n",
            "\n",
            "    Negative       0.17      0.04      0.07        24\n",
            "     Neutral       0.00      0.00      0.00        39\n",
            "    Positive       0.94      0.99      0.96       937\n",
            "\n",
            "    accuracy                           0.93      1000\n",
            "   macro avg       0.37      0.34      0.34      1000\n",
            "weighted avg       0.88      0.93      0.90      1000\n",
            "\n",
            "[[  1   0  23]\n",
            " [  0   0  39]\n",
            " [  5   5 927]]\n",
            "Accuracy :  92.8  %\n",
            "f1_score :  0.904\n"
          ],
          "name": "stdout"
        }
      ]
    },
    {
      "cell_type": "markdown",
      "metadata": {
        "id": "TH0KENpg4IuN",
        "colab_type": "text"
      },
      "source": [
        "### XGBoost"
      ]
    },
    {
      "cell_type": "code",
      "metadata": {
        "id": "Ob4s4bsc4NG3",
        "colab_type": "code",
        "colab": {}
      },
      "source": [
        "xgb_ = xgb.XGBClassifier(\n",
        " learning_rate =0.1,\n",
        " n_estimators=1000,\n",
        " max_depth=5,\n",
        " min_child_weight=1,\n",
        " gamma=0,\n",
        " subsample=0.8,\n",
        " colsample_bytree=0.8,\n",
        " objective= 'multi:softmax',\n",
        " nthread=4,\n",
        " scale_pos_weight=1,\n",
        " seed= seed)"
      ],
      "execution_count": 0,
      "outputs": []
    },
    {
      "cell_type": "code",
      "metadata": {
        "id": "RKjhNz0PAkG8",
        "colab_type": "code",
        "outputId": "bbf2ae73-0bba-4d5f-a833-4163421650de",
        "colab": {
          "base_uri": "https://localhost:8080/",
          "height": 272
        }
      },
      "source": [
        "xgb_.fit(train_X,y_train)\n",
        "\n",
        "predictions = xgb_.predict(test_X)\n",
        "\n",
        "# Model evaluation\n",
        "print(classification_report(y_test, predictions))\n",
        "print(confusion_matrix(y_test, predictions))\n",
        "\n",
        "xgb_f1 = round(f1_score(y_test, predictions, average= 'weighted'), 3)\n",
        "xgb_accuracy = round((accuracy_score(y_test, predictions) * 100), 2)\n",
        "\n",
        "print(\"Accuracy : \" , xgb_accuracy , \" %\")\n",
        "print(\"f1_score : \" , xgb_f1)"
      ],
      "execution_count": 0,
      "outputs": [
        {
          "output_type": "stream",
          "text": [
            "              precision    recall  f1-score   support\n",
            "\n",
            "    Negative       0.11      0.12      0.12        24\n",
            "     Neutral       0.08      0.03      0.04        39\n",
            "    Positive       0.94      0.96      0.95       937\n",
            "\n",
            "    accuracy                           0.91      1000\n",
            "   macro avg       0.38      0.37      0.37      1000\n",
            "weighted avg       0.89      0.91      0.90      1000\n",
            "\n",
            "[[  3   0  21]\n",
            " [  1   1  37]\n",
            " [ 23  12 902]]\n",
            "Accuracy :  90.6  %\n",
            "f1_score :  0.895\n"
          ],
          "name": "stdout"
        }
      ]
    },
    {
      "cell_type": "markdown",
      "metadata": {
        "id": "F2YwWBJqD-55",
        "colab_type": "text"
      },
      "source": [
        "### Support Vector Machine (SVM)"
      ]
    },
    {
      "cell_type": "code",
      "metadata": {
        "id": "NSYpb8AECzvM",
        "colab_type": "code",
        "colab": {}
      },
      "source": [
        "from sklearn import svm"
      ],
      "execution_count": 0,
      "outputs": []
    },
    {
      "cell_type": "code",
      "metadata": {
        "id": "OmUJSOzLC0rR",
        "colab_type": "code",
        "outputId": "dced71a8-980a-4672-b74a-f1e417f78411",
        "colab": {
          "base_uri": "https://localhost:8080/",
          "height": 153
        }
      },
      "source": [
        "svc = svm.SVC(random_state= seed)\n",
        "\n",
        "#Using k-fold cross validation technique\n",
        "kf = KFold(n_splits = 5, random_state= seed)\n",
        "\n",
        "#Hyperparameter tuning using grid search for SVM\n",
        "\n",
        "param_grid = [{'kernel': ['rbf'], 'gamma': [1e-3, 1e-4],\n",
        "                     'C': [1, 10, 100, 1000]},\n",
        "                    {'kernel': ['linear'], 'C': [1, 10, 100, 1000]}] #Large Value of parameter C => small margin\n",
        "                                                                     #Small Value of paramerter C => Large margin\n",
        "\n",
        "grid = GridSearchCV(estimator= svc, param_grid= param_grid, scoring= 'accuracy', cv= kf)\n",
        "# fit the train data \n",
        "grid.fit(train_X, y_train)\n",
        "\n",
        "print('Estimator: ', grid.best_estimator_)\n",
        "print('Best params : \\n', grid.best_params_)\n",
        "print('Output Classes: ', grid.classes_)\n",
        "print('Training Accuracy: ', grid.best_score_)"
      ],
      "execution_count": 0,
      "outputs": [
        {
          "output_type": "stream",
          "text": [
            "Estimator:  SVC(C=1000, cache_size=200, class_weight=None, coef0=0.0,\n",
            "    decision_function_shape='ovr', degree=3, gamma=0.001, kernel='rbf',\n",
            "    max_iter=-1, probability=False, random_state=4353, shrinking=True,\n",
            "    tol=0.001, verbose=False)\n",
            "Best params : \n",
            " {'C': 1000, 'gamma': 0.001, 'kernel': 'rbf'}\n",
            "Output Classes:  ['Negative' 'Neutral' 'Positive']\n",
            "Training Accuracy:  0.9475\n"
          ],
          "name": "stdout"
        }
      ]
    },
    {
      "cell_type": "code",
      "metadata": {
        "id": "2q-4B6ufqVMv",
        "colab_type": "code",
        "outputId": "c9dcf83a-40f0-4122-a11f-90c76511cd9d",
        "colab": {
          "base_uri": "https://localhost:8080/",
          "height": 221
        }
      },
      "source": [
        "# Predictions on test data\n",
        "predictions = grid.predict(test_X)\n",
        "\n",
        "# Model evaluation\n",
        "print(classification_report(y_true= y_test, y_pred= predictions))\n",
        "\n",
        "svc_f1 = round(f1_score(y_test, predictions, average= 'weighted'), 3)\n",
        "svc_accuracy = round((accuracy_score(y_test, predictions) * 100), 2)\n",
        "\n",
        "print(\"Accuracy : \" , svc_accuracy , \" %\")\n",
        "print(\"f1_score : \" , svc_f1)"
      ],
      "execution_count": 0,
      "outputs": [
        {
          "output_type": "stream",
          "text": [
            "              precision    recall  f1-score   support\n",
            "\n",
            "    Negative       0.06      0.04      0.05        24\n",
            "     Neutral       0.00      0.00      0.00        39\n",
            "    Positive       0.94      0.98      0.96       937\n",
            "\n",
            "    accuracy                           0.92      1000\n",
            "   macro avg       0.33      0.34      0.34      1000\n",
            "weighted avg       0.88      0.92      0.90      1000\n",
            "\n",
            "Accuracy :  91.7  %\n",
            "f1_score :  0.898\n"
          ],
          "name": "stdout"
        }
      ]
    },
    {
      "cell_type": "markdown",
      "metadata": {
        "id": "BfN0FMubHjg6",
        "colab_type": "text"
      },
      "source": [
        "### LSTM --> Long Short Term Memory Implementation"
      ]
    },
    {
      "cell_type": "code",
      "metadata": {
        "id": "VmNN81v_Rgca",
        "colab_type": "code",
        "outputId": "bd244c99-52de-4662-ff6e-e695d5a881ad",
        "colab": {
          "base_uri": "https://localhost:8080/",
          "height": 411
        }
      },
      "source": [
        "from keras import Sequential\n",
        "from keras.layers import Embedding, LSTM, Dense, Dropout\n",
        "\n",
        "embedding_size =32\n",
        "max_words = 5000\n",
        "\n",
        "model=Sequential()\n",
        "model.add(Embedding(max_words, embedding_size, input_length= train_X.shape[1]))\n",
        "model.add(LSTM(100))\n",
        "model.add(Dense(3, activation='softmax'))\n",
        "\n",
        "print(model.summary())"
      ],
      "execution_count": 0,
      "outputs": [
        {
          "output_type": "stream",
          "text": [
            "Using TensorFlow backend.\n"
          ],
          "name": "stderr"
        },
        {
          "output_type": "stream",
          "text": [
            "WARNING:tensorflow:From /usr/local/lib/python3.6/dist-packages/keras/backend/tensorflow_backend.py:66: The name tf.get_default_graph is deprecated. Please use tf.compat.v1.get_default_graph instead.\n",
            "\n",
            "WARNING:tensorflow:From /usr/local/lib/python3.6/dist-packages/keras/backend/tensorflow_backend.py:541: The name tf.placeholder is deprecated. Please use tf.compat.v1.placeholder instead.\n",
            "\n",
            "WARNING:tensorflow:From /usr/local/lib/python3.6/dist-packages/keras/backend/tensorflow_backend.py:4432: The name tf.random_uniform is deprecated. Please use tf.random.uniform instead.\n",
            "\n",
            "Model: \"sequential_1\"\n",
            "_________________________________________________________________\n",
            "Layer (type)                 Output Shape              Param #   \n",
            "=================================================================\n",
            "embedding_1 (Embedding)      (None, 1000, 32)          160000    \n",
            "_________________________________________________________________\n",
            "lstm_1 (LSTM)                (None, 100)               53200     \n",
            "_________________________________________________________________\n",
            "dense_1 (Dense)              (None, 3)                 303       \n",
            "=================================================================\n",
            "Total params: 213,503\n",
            "Trainable params: 213,503\n",
            "Non-trainable params: 0\n",
            "_________________________________________________________________\n",
            "None\n"
          ],
          "name": "stdout"
        }
      ]
    },
    {
      "cell_type": "code",
      "metadata": {
        "id": "WxlDZRvtimah",
        "colab_type": "code",
        "outputId": "17844ffc-4baf-422b-cd3e-579cb156c0b7",
        "colab": {
          "base_uri": "https://localhost:8080/",
          "height": 105
        }
      },
      "source": [
        "model.compile(loss='categorical_crossentropy', \n",
        "             optimizer='adam', \n",
        "             metrics=['accuracy'])"
      ],
      "execution_count": 0,
      "outputs": [
        {
          "output_type": "stream",
          "text": [
            "WARNING:tensorflow:From /usr/local/lib/python3.6/dist-packages/keras/optimizers.py:793: The name tf.train.Optimizer is deprecated. Please use tf.compat.v1.train.Optimizer instead.\n",
            "\n",
            "WARNING:tensorflow:From /usr/local/lib/python3.6/dist-packages/keras/backend/tensorflow_backend.py:3576: The name tf.log is deprecated. Please use tf.math.log instead.\n",
            "\n"
          ],
          "name": "stdout"
        }
      ]
    },
    {
      "cell_type": "code",
      "metadata": {
        "id": "WO3ljuU3wPuD",
        "colab_type": "code",
        "outputId": "9d88a829-e31a-4f62-944c-111c2d9755ee",
        "colab": {
          "base_uri": "https://localhost:8080/",
          "height": 34
        }
      },
      "source": [
        "#Converting y_train categorical labels to numbers\n",
        "y_train_dummies = pd.get_dummies(y_train).values\n",
        "print('Shape of label tensor:', y_train_dummies.shape)"
      ],
      "execution_count": 0,
      "outputs": [
        {
          "output_type": "stream",
          "text": [
            "Shape of label tensor: (4000, 3)\n"
          ],
          "name": "stdout"
        }
      ]
    },
    {
      "cell_type": "code",
      "metadata": {
        "id": "qN9eFW0njLnE",
        "colab_type": "code",
        "outputId": "7c51e0b5-8aa7-49be-8d50-82a5215ab8c4",
        "colab": {
          "base_uri": "https://localhost:8080/",
          "height": 530
        }
      },
      "source": [
        "#Train the model\n",
        "model.fit(train_X, y_train_dummies, epochs= 5, batch_size= 32) \n",
        "\n",
        "model.save('AmazonProductReview.h5')"
      ],
      "execution_count": 0,
      "outputs": [
        {
          "output_type": "stream",
          "text": [
            "WARNING:tensorflow:From /usr/local/lib/python3.6/dist-packages/tensorflow_core/python/ops/math_grad.py:1424: where (from tensorflow.python.ops.array_ops) is deprecated and will be removed in a future version.\n",
            "Instructions for updating:\n",
            "Use tf.where in 2.0, which has the same broadcast rule as np.where\n",
            "WARNING:tensorflow:From /usr/local/lib/python3.6/dist-packages/keras/backend/tensorflow_backend.py:1033: The name tf.assign_add is deprecated. Please use tf.compat.v1.assign_add instead.\n",
            "\n",
            "WARNING:tensorflow:From /usr/local/lib/python3.6/dist-packages/keras/backend/tensorflow_backend.py:1020: The name tf.assign is deprecated. Please use tf.compat.v1.assign instead.\n",
            "\n",
            "WARNING:tensorflow:From /usr/local/lib/python3.6/dist-packages/keras/backend/tensorflow_backend.py:3005: The name tf.Session is deprecated. Please use tf.compat.v1.Session instead.\n",
            "\n",
            "Epoch 1/5\n",
            "WARNING:tensorflow:From /usr/local/lib/python3.6/dist-packages/keras/backend/tensorflow_backend.py:190: The name tf.get_default_session is deprecated. Please use tf.compat.v1.get_default_session instead.\n",
            "\n",
            "WARNING:tensorflow:From /usr/local/lib/python3.6/dist-packages/keras/backend/tensorflow_backend.py:197: The name tf.ConfigProto is deprecated. Please use tf.compat.v1.ConfigProto instead.\n",
            "\n",
            "WARNING:tensorflow:From /usr/local/lib/python3.6/dist-packages/keras/backend/tensorflow_backend.py:207: The name tf.global_variables is deprecated. Please use tf.compat.v1.global_variables instead.\n",
            "\n",
            "WARNING:tensorflow:From /usr/local/lib/python3.6/dist-packages/keras/backend/tensorflow_backend.py:216: The name tf.is_variable_initialized is deprecated. Please use tf.compat.v1.is_variable_initialized instead.\n",
            "\n",
            "WARNING:tensorflow:From /usr/local/lib/python3.6/dist-packages/keras/backend/tensorflow_backend.py:223: The name tf.variables_initializer is deprecated. Please use tf.compat.v1.variables_initializer instead.\n",
            "\n",
            "4000/4000 [==============================] - 121s 30ms/step - loss: 0.3481 - acc: 0.9297\n",
            "Epoch 2/5\n",
            "4000/4000 [==============================] - 120s 30ms/step - loss: 0.2798 - acc: 0.9373\n",
            "Epoch 3/5\n",
            "4000/4000 [==============================] - 121s 30ms/step - loss: 0.2798 - acc: 0.9373\n",
            "Epoch 4/5\n",
            "4000/4000 [==============================] - 122s 30ms/step - loss: 0.2778 - acc: 0.9373\n",
            "Epoch 5/5\n",
            "4000/4000 [==============================] - 122s 30ms/step - loss: 0.2768 - acc: 0.9373\n"
          ],
          "name": "stdout"
        }
      ]
    },
    {
      "cell_type": "code",
      "metadata": {
        "id": "bp8GoKYtwtJ0",
        "colab_type": "code",
        "outputId": "1ac043b2-3654-4c30-879a-a29100f04b30",
        "colab": {
          "base_uri": "https://localhost:8080/",
          "height": 34
        }
      },
      "source": [
        "#Converting y_test categorical labels to numbers\n",
        "y_test_dummies = pd.get_dummies(y_test).values\n",
        "print('Shape of label tensor:', y_test_dummies.shape)"
      ],
      "execution_count": 0,
      "outputs": [
        {
          "output_type": "stream",
          "text": [
            "Shape of label tensor: (1000, 3)\n"
          ],
          "name": "stdout"
        }
      ]
    },
    {
      "cell_type": "code",
      "metadata": {
        "id": "D2KUT7gqxEI9",
        "colab_type": "code",
        "outputId": "18217dc6-b785-40ef-b47d-4b3479ef2780",
        "colab": {
          "base_uri": "https://localhost:8080/",
          "height": 51
        }
      },
      "source": [
        "# Model evaluation\n",
        "from keras.models import load_model\n",
        "\n",
        "model_ = load_model('AmazonProductReview.h5')\n",
        "scores = model_.evaluate(test_X, y_test_dummies)\n",
        "\n",
        "LSTM_accuracy = scores[1] * 100\n",
        "print('Test accuracy:', scores[1] * 100, ' %')"
      ],
      "execution_count": 0,
      "outputs": [
        {
          "output_type": "stream",
          "text": [
            "1000/1000 [==============================] - 5s 5ms/step\n",
            "Test accuracy: 93.7  %\n"
          ],
          "name": "stdout"
        }
      ]
    },
    {
      "cell_type": "markdown",
      "metadata": {
        "id": "lyXcUHY0rmCk",
        "colab_type": "text"
      },
      "source": [
        "# Model Comparision"
      ]
    },
    {
      "cell_type": "code",
      "metadata": {
        "id": "jgzdNEeQRP_d",
        "colab_type": "code",
        "colab": {}
      },
      "source": [
        "model = ['MNB', 'Random Forest', 'XGBoost', 'SVM', 'LSTM']\n",
        "acc = [MNB_accuracy, rfc_accuracy, xgb_accuracy, svc_accuracy, LSTM_accuracy]"
      ],
      "execution_count": 0,
      "outputs": []
    },
    {
      "cell_type": "code",
      "metadata": {
        "id": "XUS3_MLpRP4L",
        "colab_type": "code",
        "outputId": "09129b9a-b157-4b30-92aa-b1e291e5f7b0",
        "colab": {
          "base_uri": "https://localhost:8080/",
          "height": 337
        }
      },
      "source": [
        "#Comapring the accuracy for various models\n",
        "sns.set_style(\"whitegrid\")\n",
        "plt.figure(figsize=(10,5))\n",
        "plt.yticks(np.arange(0,100,10))\n",
        "plt.ylabel(\"Test Accuracy %\")\n",
        "plt.xlabel(\"Machine Learning Model\")\n",
        "sns.barplot(x= model, y= acc)\n",
        "plt.show()"
      ],
      "execution_count": 0,
      "outputs": [
        {
          "output_type": "display_data",
          "data": {
            "image/png": "[encoded data removed]",
            "text/plain": [
              "<Figure size 720x360 with 1 Axes>"
            ]
          },
          "metadata": {
            "tags": []
          }
        }
      ]
    },
    {
      "cell_type": "markdown",
      "metadata": {
        "id": "t6Eqq6B05eA1",
        "colab_type": "text"
      },
      "source": [
        "Accuracy is not considered to be a good metric for assessing the model’s performance when the dataset is imbalanced.\n",
        "\n",
        "\n",
        "f1-score is a good metric for assessing the model’s performance when the dataset is imbalanced. The f1-score combines the precision and recall using the harmonic mean."
      ]
    },
    {
      "cell_type": "code",
      "metadata": {
        "id": "KsiVzILtximA",
        "colab_type": "code",
        "outputId": "6972ee3c-8975-4207-b1ae-3849751dd7bf",
        "colab": {
          "base_uri": "https://localhost:8080/",
          "height": 501
        }
      },
      "source": [
        "# Comparing the f1-score for various models\n",
        "model = ['MNB', 'Random Forest', 'XGBoost', 'SVM']\n",
        "f1_score = [MNB_f1, rfc_f1, xgb_f1, svc_f1]\n",
        "\n",
        "sns.set_style(\"whitegrid\")\n",
        "plt.figure(figsize=(10,8))\n",
        "plt.yticks(np.linspace(0,1,21))\n",
        "plt.ylabel(\"f1-score\")\n",
        "plt.xlabel(\"Machine Learning Model\")\n",
        "sns.barplot(x= model,  y= f1_score)\n",
        "plt.show()"
      ],
      "execution_count": 0,
      "outputs": [
        {
          "output_type": "display_data",
          "data": {
            "image/png": "[encoded data removed]",
            "text/plain": [
              "<Figure size 720x576 with 1 Axes>"
            ]
          },
          "metadata": {
            "tags": []
          }
        }
      ]
    }
  ]
}